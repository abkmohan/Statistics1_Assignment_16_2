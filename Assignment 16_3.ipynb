{
 "cells": [
  {
   "cell_type": "code",
   "execution_count": 16,
   "metadata": {},
   "outputs": [
    {
     "data": {
      "text/html": [
       "<div>\n",
       "<style scoped>\n",
       "    .dataframe tbody tr th:only-of-type {\n",
       "        vertical-align: middle;\n",
       "    }\n",
       "\n",
       "    .dataframe tbody tr th {\n",
       "        vertical-align: top;\n",
       "    }\n",
       "\n",
       "    .dataframe thead th {\n",
       "        text-align: right;\n",
       "    }\n",
       "</style>\n",
       "<table border=\"1\" class=\"dataframe\">\n",
       "  <thead>\n",
       "    <tr style=\"text-align: right;\">\n",
       "      <th></th>\n",
       "      <th>failed in x subjects</th>\n",
       "      <th>x</th>\n",
       "      <th>probabilitydist(x)</th>\n",
       "    </tr>\n",
       "  </thead>\n",
       "  <tbody>\n",
       "    <tr>\n",
       "      <th>0</th>\n",
       "      <td>failed (zero subject)</td>\n",
       "      <td>0</td>\n",
       "      <td>0.80</td>\n",
       "    </tr>\n",
       "    <tr>\n",
       "      <th>1</th>\n",
       "      <td>failed (one subject)</td>\n",
       "      <td>1</td>\n",
       "      <td>0.10</td>\n",
       "    </tr>\n",
       "    <tr>\n",
       "      <th>2</th>\n",
       "      <td>failed (two subjects)</td>\n",
       "      <td>2</td>\n",
       "      <td>0.07</td>\n",
       "    </tr>\n",
       "    <tr>\n",
       "      <th>3</th>\n",
       "      <td>failed (three subjects)</td>\n",
       "      <td>3</td>\n",
       "      <td>0.03</td>\n",
       "    </tr>\n",
       "  </tbody>\n",
       "</table>\n",
       "</div>"
      ],
      "text/plain": [
       "      failed in x subjects  x  probabilitydist(x)\n",
       "0    failed (zero subject)  0                0.80\n",
       "1     failed (one subject)  1                0.10\n",
       "2    failed (two subjects)  2                0.07\n",
       "3  failed (three subjects)  3                0.03"
      ]
     },
     "execution_count": 16,
     "metadata": {},
     "output_type": "execute_result"
    }
   ],
   "source": [
    "#Course: Data Science Masters\n",
    "#Title: Assignment 16.3            \n",
    "#Tool: Jupyter notebook \n",
    "#Author: Krishna A\n",
    "#Date: 18-05-2018 (DD/MM/YYYY)\n",
    "\n",
    "#Problem Statement \n",
    "#   In a class on 100 students, 80 students passed in all subjects, 10 failed in one subject, 7\n",
    "#   failed in two subjects and 3 failed in three subjects. Find the probability distribution of\n",
    "#   the variable for number of subjects a student from the given class has failed in.\n",
    "\n",
    "import pandas as pd\n",
    "\n",
    "students_count = 100\n",
    "passed_students_count = 80\n",
    "onesubject_failed_students_count = 10\n",
    "twosubjects_failed_students_count = 7\n",
    "threesubjects_failed_students_count = 3\n",
    "\n",
    "\n",
    "pd_passed_students = passed_students_count / students_count\n",
    "pd_onesubject_failed_students = onesubject_failed_students_count / students_count\n",
    "pd_twosubjects_failed_students = twosubjects_failed_students_count / students_count\n",
    "pd_threesubjects_failed_students = threesubjects_failed_students_count / students_count\n",
    "\n",
    "df = pd.DataFrame(data=[['failed (zero subject)',0, pd_passed_students],\n",
    "                        ['failed (one subject)',1, pd_onesubject_failed_students],\n",
    "                        ['failed (two subjects)',2, pd_twosubjects_failed_students],\n",
    "                        ['failed (three subjects)',3, pd_threesubjects_failed_students]], \n",
    "                  columns=['failed in x subjects','x', 'probabilitydist(x)'])\n",
    "\n",
    "df"
   ]
  },
  {
   "cell_type": "code",
   "execution_count": null,
   "metadata": {
    "collapsed": true
   },
   "outputs": [],
   "source": []
  }
 ],
 "metadata": {
  "kernelspec": {
   "display_name": "Python 3",
   "language": "python",
   "name": "python3"
  },
  "language_info": {
   "codemirror_mode": {
    "name": "ipython",
    "version": 3
   },
   "file_extension": ".py",
   "mimetype": "text/x-python",
   "name": "python",
   "nbconvert_exporter": "python",
   "pygments_lexer": "ipython3",
   "version": "3.6.3"
  }
 },
 "nbformat": 4,
 "nbformat_minor": 2
}
